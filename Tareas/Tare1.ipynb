{
 "cells": [
  {
   "cell_type": "markdown",
   "id": "0d01f989",
   "metadata": {},
   "source": [
    "### Ejercicio 1: Calculadora de Propinas\n",
    "Escribe un programa que solicite al usuario el monto de una cuenta (float) y el porcentaje de propina que desea dar (int). El programa debe calcular y mostrar la propina y el total a pagar."
   ]
  },
  {
   "cell_type": "code",
   "execution_count": 2,
   "id": "cb8fe56b",
   "metadata": {},
   "outputs": [
    {
     "name": "stdout",
     "output_type": "stream",
     "text": [
      "Propina: $87.05\n",
      "Total a pagar: $957.55\n"
     ]
    }
   ],
   "source": [
    "Cuenta = float(input(\"Monto de la cuenta: \"))\n",
    "Porcentaje = int(input(\"Porcentaje de propina: \"))\n",
    "Propina = Cuenta * (Porcentaje / 100)   \n",
    "Total = Cuenta + Propina\n",
    "print(\"Propina: $%.2f\" % Propina)\n",
    "print(\"Total a pagar: $%.2f\" % Total)"
   ]
  },
  {
   "cell_type": "markdown",
   "id": "e2fa0cc0",
   "metadata": {},
   "source": [
    "### Ejercicio 2: Contador de vocales\n",
    "Crea un programa que pida una palabra al usuario (str) y use un ciclo `for` para contar cuántas vocales (a, e, i, o, u) contiene la palabra. Considera tanto mayúsculas como minúsculas."
   ]
  },
  {
   "cell_type": "code",
   "execution_count": 7,
   "id": "bf9014b1",
   "metadata": {},
   "outputs": [
    {
     "name": "stdout",
     "output_type": "stream",
     "text": [
      "La palabra mama tiene 2 vocales\n"
     ]
    }
   ],
   "source": [
    "Palabra = str(input(\"Escribe una palabra: \"))\n",
    "Vocal = \"aeiouAEIOU\"\n",
    "i = 0    \n",
    "for letra in Palabra:\n",
    "        if letra in Vocal:\n",
    "         i += 1\n",
    "print(\"La palabra\",Palabra, \"tiene\", i, \"vocales\")   \n"
   ]
  },
  {
   "cell_type": "markdown",
   "id": "ca4f7ee2",
   "metadata": {},
   "source": [
    "### Ejercicio 3: Tabla de Multiplicar\n",
    "\n",
    "\n",
    "\n",
    "Solicita al usuario un número entero (int) y usa un ciclo `for` para mostrar su tabla de multiplicar del 1 al 10."
   ]
  },
  {
   "cell_type": "code",
   "execution_count": null,
   "id": "346a5ca0",
   "metadata": {},
   "outputs": [
    {
     "name": "stdout",
     "output_type": "stream",
     "text": [
      "La tabla de 1 al 10 del numero es: 2 es 20\n",
      "2 x 1 = 2\n",
      "2 x 2 = 4\n",
      "2 x 3 = 6\n",
      "2 x 4 = 8\n",
      "2 x 5 = 10\n",
      "2 x 6 = 12\n",
      "2 x 7 = 14\n",
      "2 x 8 = 16\n",
      "2 x 9 = 18\n",
      "2 x 10 = 20\n"
     ]
    }
   ],
   "source": [
    "Numero = int(input(\"Dame un numero: \"))\n",
    "print(\"La tabla de 1 al 10 del numero es:\", Numero, \"es\")\n",
    "i =0 \n",
    "for i in range(1,11):\n",
    "    Mult = Numero * i\n",
    "    print(f\"{Numero} x {i} = {Mult}\")\n",
    "\n"
   ]
  },
  {
   "cell_type": "markdown",
   "id": "dc00b23a",
   "metadata": {},
   "source": [
    "### Ejercicio 4: Validador de Contraseña Simple\n",
    "\n",
    "\n",
    "\n",
    "Escribe un programa que pida una contraseña al usuario y use un ciclo `while` para seguir pidiendo la contraseña hasta que tenga al menos 8 caracteres. Al final, muestra la longitud de la contraseña aceptada."
   ]
  },
  {
   "cell_type": "code",
   "execution_count": 6,
   "id": "601b4c82",
   "metadata": {},
   "outputs": [
    {
     "name": "stdout",
     "output_type": "stream",
     "text": [
      "La contraseña es muy corta. Intenta de nuevo.\n",
      "Contraseña aceptada. Longitud: 10\n"
     ]
    }
   ],
   "source": [
    "Cont = input(\"Introduce una contraseña: \")\n",
    "while len(Cont) < 8:\n",
    "    print(\"La contraseña es muy corta. Intenta de nuevo.\")\n",
    "    Cont = input(\"Introduce una contraseña: \")\n",
    "print(\"Contraseña aceptada. Longitud:\", len(Cont))"
   ]
  },
  {
   "cell_type": "markdown",
   "id": "f2b555e0",
   "metadata": {},
   "source": [
    "### Ejercicio 5: Suma de Números Pares\n",
    "\n",
    "\n",
    "\n",
    "Pide al usuario un número entero (int) y usa un ciclo `for` para calcular la suma de todos los números pares desde 2 hasta ese número (inclusive).\n",
    "\n"
   ]
  },
  {
   "cell_type": "code",
   "execution_count": 7,
   "id": "97b6efc8",
   "metadata": {},
   "outputs": [
    {
     "name": "stdout",
     "output_type": "stream",
     "text": [
      "La suma de los números pares desde 2 hasta 10 es: 30\n"
     ]
    }
   ],
   "source": [
    "n = int(input(\"Introduce un número entero: \"))\n",
    "suma = 0\n",
    "for i in range(2, n + 1, 2):\n",
    "    suma += i\n",
    "print(\"La suma de los números pares desde 2 hasta\", n, \"es:\", suma)\n"
   ]
  },
  {
   "cell_type": "markdown",
   "id": "170bf824",
   "metadata": {},
   "source": [
    "### Ejercicio 6: Generador de Patrones de Texto\n",
    "\n",
    "\n",
    "\n",
    "Solicita al usuario un carácter (str) y un número de filas (int). Usa ciclos `for` anidados para crear un patrón triangular donde cada fila tiene un carácter más que la anterior.\n",
    "\n"
   ]
  },
  {
   "cell_type": "code",
   "execution_count": null,
   "id": "bfa2949d",
   "metadata": {},
   "outputs": [
    {
     "name": "stdout",
     "output_type": "stream",
     "text": [
      "!\n",
      "!!\n",
      "!!!\n"
     ]
    }
   ],
   "source": [
    "car = input(\"Introduce un carácter: \")\n",
    "filas = int(input(\"Introduce el número de filas: \"))\n",
    "\n",
    "for i in range(1, filas + 1):\n",
    "    print(car * i)"
   ]
  },
  {
   "cell_type": "markdown",
   "id": "c64c7bce",
   "metadata": {},
   "source": [
    "### Ejercicio 7: Calculadora de Promedio con Validación\n",
    "\n",
    "\n",
    "\n",
    "Usa un ciclo `while` para pedir al usuario que ingrese números decimales (float) uno por uno. El programa debe terminar cuando el usuario ingrese -1. Al final, calcula y muestra el promedio de todos los números ingresados (sin contar el -1)."
   ]
  },
  {
   "cell_type": "code",
   "execution_count": 3,
   "id": "b8b58833",
   "metadata": {},
   "outputs": [
    {
     "name": "stdout",
     "output_type": "stream",
     "text": [
      "El promedio de los números es: 0.7\n"
     ]
    }
   ],
   "source": [
    "suma = 0\n",
    "cont = 0\n",
    "while True:\n",
    "    num = float(input(\"Ingresa un número decimal hasta terminar en -1: \"))\n",
    "    if num == -1:\n",
    "        break\n",
    "    suma += num\n",
    "    cont += 1\n",
    "\n",
    "if cont > 0:\n",
    "    prom = suma / cont\n",
    "    print(\"El promedio de los números es:\", prom)\n",
    "else:\n",
    "    print(\"No se ingresaron números\")"
   ]
  },
  {
   "cell_type": "markdown",
   "id": "2311fe0b",
   "metadata": {},
   "source": [
    "### Ejercicio 8: Inversor de Palabras\n",
    "\n",
    "\n",
    "\n",
    "Pide al usuario una frase (str) y usa un ciclo `for` para mostrar cada palabra de la frase al revés. Las palabras se separan por espacios."
   ]
  },
  {
   "cell_type": "code",
   "execution_count": 1,
   "id": "fde8d19c",
   "metadata": {},
   "outputs": [
    {
     "name": "stdout",
     "output_type": "stream",
     "text": [
      "aerat ed esalc ed acitobor "
     ]
    }
   ],
   "source": [
    "frase = input(\"Escribe una frase: \")\n",
    "palabras = frase.split()\n",
    "for palabra in palabras:\n",
    "    print(palabra[::-1], end=' ')"
   ]
  },
  {
   "cell_type": "markdown",
   "id": "78043119",
   "metadata": {},
   "source": [
    "### Ejercicio 9: Juego de Adivinanza Simple\n",
    "\n",
    "\n",
    "\n",
    "Crea un juego donde el programa \"piensa\" en un número del 1 al 20 (puedes usar el número 15 fijo). Usa un ciclo `while` para que el usuario siga adivinando hasta que acierte. Cuenta y muestra el número de intentos."
   ]
  },
  {
   "cell_type": "code",
   "execution_count": 13,
   "id": "1e627a88",
   "metadata": {},
   "outputs": [
    {
     "name": "stdout",
     "output_type": "stream",
     "text": [
      "¡Felicidades! Adivinaste el número 15  en  1 intentos.\n"
     ]
    }
   ],
   "source": [
    "import random as rand\n",
    "#num = rand(1,20)\n",
    "num = 15\n",
    "intentos = 0\n",
    "while True:\n",
    "    intento = int(input(\"Adivina el número entre 1 y 20: \"))\n",
    "    intentos += 1\n",
    "    if intento == num:\n",
    "        print(\"¡Felicidades! Adivinaste el número\", num, \" en \", intentos, \"intentos.\")\n",
    "        break\n",
    "    else:\n",
    "        print(\"Número equivocado. Intenta de nuevo.\")"
   ]
  },
  {
   "cell_type": "markdown",
   "id": "bf3bd73a",
   "metadata": {},
   "source": [
    "### Ejercicio 10: Análisis de Texto\n",
    "\n",
    "\n",
    "\n",
    "Pide al usuario que ingrese un texto (str) y realiza el siguiente análisis usando ciclos:\n",
    "\n",
    "\n",
    "\n",
    "- Cuenta el número total de caracteres\n",
    "\n",
    "- Cuenta cuántos espacios hay\n",
    "\n",
    "- Cuenta cuántos dígitos numéricos hay\n",
    "\n",
    "- Muestra la primera y última letra del texto"
   ]
  },
  {
   "cell_type": "code",
   "execution_count": 6,
   "id": "b2979c8c",
   "metadata": {},
   "outputs": [
    {
     "name": "stdout",
     "output_type": "stream",
     "text": [
      "Caracteres: 168\n",
      "Espacios: 34\n",
      "Números: 1\n",
      "Primera letra: E\n",
      "Última letra: a\n"
     ]
    }
   ],
   "source": [
    "texto = input(\"Introduce un texto: \")\n",
    "caracteres = 0\n",
    "espacios = 0\n",
    "numeros = 0\n",
    "for char in texto:\n",
    "    if char.isalpha():\n",
    "        caracteres += 1\n",
    "    elif char.isspace():\n",
    "        espacios += 1\n",
    "    elif char.isdigit():\n",
    "        numeros += 1\n",
    "print(\"Caracteres:\", caracteres)\n",
    "print(\"Espacios:\", espacios)\n",
    "print(\"Números:\", numeros)\n",
    "print(\"Primera letra:\", texto[0])\n",
    "\n",
    "if texto[-1].isalpha():\n",
    " print(\"Última letra:\", texto[-1])\n",
    "else:\n",
    "  print(\"Última letra:\", texto[-2])"
   ]
  }
 ],
 "metadata": {
  "kernelspec": {
   "display_name": "base",
   "language": "python",
   "name": "python3"
  },
  "language_info": {
   "codemirror_mode": {
    "name": "ipython",
    "version": 3
   },
   "file_extension": ".py",
   "mimetype": "text/x-python",
   "name": "python",
   "nbconvert_exporter": "python",
   "pygments_lexer": "ipython3",
   "version": "3.13.5"
  }
 },
 "nbformat": 4,
 "nbformat_minor": 5
}
